{
 "cells": [
  {
   "cell_type": "markdown",
   "metadata": {},
   "source": [
    "# Robotic Navigation and Exploration Final Project - Simulator Demo\n",
    "\n",
    "Before running this notebook, make sure to open the Unity simulator and the DataServer."
   ]
  },
  {
   "cell_type": "markdown",
   "metadata": {},
   "source": [
    "## Usage"
   ]
  },
  {
   "cell_type": "markdown",
   "metadata": {},
   "source": [
    "### Import the necessary libraries"
   ]
  },
  {
   "cell_type": "code",
   "execution_count": 1,
   "metadata": {},
   "outputs": [],
   "source": [
    "import torch\n",
    "from pathlib import Path\n",
    "from jetbot_sim.environment import Env\n",
    "from ddqn.agent import Agent"
   ]
  },
  {
   "cell_type": "markdown",
   "metadata": {},
   "source": [
    "### Initialize the agent and load the model"
   ]
  },
  {
   "cell_type": "code",
   "execution_count": 2,
   "metadata": {},
   "outputs": [
    {
     "name": "stdout",
     "output_type": "stream",
     "text": [
      "Loading model at models\\ddqn_1070k.chkpt...\n",
      "Model loaded successfully from models\\ddqn_1070k.chkpt with exploration rate 0.1\n"
     ]
    }
   ],
   "source": [
    "chkpt = Path(\"./models/ddqn_1070k.chkpt\")\n",
    "agent = Agent(\n",
    "    Env(turn_speed=0.2),\n",
    "    action_dim=4,\n",
    "    checkpoint=chkpt,\n",
    "    device=\"cuda\" if torch.cuda.is_available() else \"cpu\",\n",
    ")\n",
    "agent.exploration_rate = 0.05"
   ]
  },
  {
   "cell_type": "markdown",
   "metadata": {},
   "source": [
    "### Run the agent"
   ]
  },
  {
   "cell_type": "code",
   "execution_count": 3,
   "metadata": {},
   "outputs": [
    {
     "name": "stdout",
     "output_type": "stream",
     "text": [
      "Interrupted by user.\n",
      "Steps: 1642\n",
      "Reward: 702\n"
     ]
    }
   ],
   "source": [
    "try:\n",
    "    steps, total_reward = 0, 0\n",
    "    obs, _, _ = agent.env.reset()\n",
    "    obs = agent.preprocess(obs)\n",
    "\n",
    "    while True:\n",
    "        action = agent.get_action(obs)\n",
    "        next_obs, reward, done = agent.env.step(action)\n",
    "        next_obs = agent.preprocess(next_obs)\n",
    "\n",
    "        steps += 1\n",
    "        total_reward += reward\n",
    "\n",
    "        # Also, if you find done if raised unexpectedly, you can\n",
    "        # remove this condition and terminate this code block manually.\n",
    "        # if done and steps > 2:\n",
    "            # If done in less than 2 step, it's probably a bug.\n",
    "            # agent.env.reset()\n",
    "            # break\n",
    "\n",
    "        obs = next_obs\n",
    "except KeyboardInterrupt:\n",
    "    print(\"Interrupted by user.\")\n",
    "    agent.env.reset()\n",
    "\n",
    "print(f\"Steps: {steps}\\nReward: {total_reward}\")"
   ]
  }
 ],
 "metadata": {
  "kernelspec": {
   "display_name": "rne-sim",
   "language": "python",
   "name": "python3"
  },
  "language_info": {
   "codemirror_mode": {
    "name": "ipython",
    "version": 3
   },
   "file_extension": ".py",
   "mimetype": "text/x-python",
   "name": "python",
   "nbconvert_exporter": "python",
   "pygments_lexer": "ipython3",
   "version": "3.11.9"
  }
 },
 "nbformat": 4,
 "nbformat_minor": 2
}
