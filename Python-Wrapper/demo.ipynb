{
 "cells": [
  {
   "cell_type": "markdown",
   "metadata": {},
   "source": [
    "# Robotic Navigation and Exploration Final Project - Simulator Demo\n",
    "\n",
    "Before running this notebook, make sure to open the Unity simulator and the DataServer."
   ]
  },
  {
   "cell_type": "markdown",
   "metadata": {},
   "source": [
    "## Usage"
   ]
  },
  {
   "cell_type": "markdown",
   "metadata": {},
   "source": [
    "### Import the necessary libraries"
   ]
  },
  {
   "cell_type": "code",
   "execution_count": 5,
   "metadata": {},
   "outputs": [],
   "source": [
    "import torch\n",
    "from pathlib import Path\n",
    "from jetbot_sim.environment import Env\n",
    "from ddqn.agent import Agent"
   ]
  },
  {
   "cell_type": "markdown",
   "metadata": {},
   "source": [
    "### Initialize the agent and load the model"
   ]
  },
  {
   "cell_type": "code",
   "execution_count": 6,
   "metadata": {},
   "outputs": [
    {
     "name": "stdout",
     "output_type": "stream",
     "text": [
      "Loading model at models\\ddqn_500k.chkpt...\n",
      "Model loaded successfully from models\\ddqn_500k.chkpt with exploration rate 0.1\n"
     ]
    }
   ],
   "source": [
    "chkpt = Path(\"./models/ddqn_500k.chkpt\")\n",
    "agent = Agent(\n",
    "    Env(),\n",
    "    action_dim=4,\n",
    "    checkpoint=chkpt,\n",
    "    device=\"cuda\" if torch.cuda.is_available() else \"cpu\",\n",
    ")"
   ]
  },
  {
   "cell_type": "markdown",
   "metadata": {},
   "source": [
    "### Run the agent"
   ]
  },
  {
   "cell_type": "code",
   "execution_count": 21,
   "metadata": {},
   "outputs": [
    {
     "name": "stdout",
     "output_type": "stream",
     "text": [
      "Steps: 382\n",
      "Reward: 149\n"
     ]
    }
   ],
   "source": [
    "steps, total_reward = 0, 0\n",
    "obs, _, _ = agent.env.reset()\n",
    "obs = agent.preprocess(agent.env.reset()[0])\n",
    "\n",
    "while True:\n",
    "    action = agent.get_action(obs)\n",
    "    next_obs, reward, done = agent.env.step(action)\n",
    "    next_obs = agent.preprocess(next_obs)\n",
    "\n",
    "    steps += 1\n",
    "    total_reward += reward\n",
    "\n",
    "    # If done in less than 2 step, it's probably a bug.\n",
    "    # Also, if you find done if raised unexpectedly, you can\n",
    "    # remove this condition and terminate this code block manually.\n",
    "    if done and steps > 2:\n",
    "        agent.env.reset()\n",
    "        break\n",
    "\n",
    "    obs = next_obs\n",
    "\n",
    "print(f\"Steps: {steps}\\nReward: {total_reward}\")"
   ]
  }
 ],
 "metadata": {
  "kernelspec": {
   "display_name": "rne-sim",
   "language": "python",
   "name": "python3"
  },
  "language_info": {
   "codemirror_mode": {
    "name": "ipython",
    "version": 3
   },
   "file_extension": ".py",
   "mimetype": "text/x-python",
   "name": "python",
   "nbconvert_exporter": "python",
   "pygments_lexer": "ipython3",
   "version": "3.11.9"
  }
 },
 "nbformat": 4,
 "nbformat_minor": 2
}
